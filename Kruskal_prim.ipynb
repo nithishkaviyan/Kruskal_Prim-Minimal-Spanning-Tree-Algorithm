{
 "cells": [
  {
   "cell_type": "code",
   "execution_count": 1,
   "metadata": {
    "collapsed": true
   },
   "outputs": [],
   "source": [
    "import networkx as nx\n",
    "import numpy as np\n",
    "import pandas as pd\n",
    "import time"
   ]
  },
  {
   "cell_type": "code",
   "execution_count": 2,
   "metadata": {
    "collapsed": true
   },
   "outputs": [],
   "source": [
    "##Import data\n",
    "G=nx.read_gml('adjnoun.gml')"
   ]
  },
  {
   "cell_type": "code",
   "execution_count": 3,
   "metadata": {
    "collapsed": true
   },
   "outputs": [],
   "source": [
    "##Encode node strings in a dictionary\n",
    "node=list(G.node)\n",
    "n=len(node)\n",
    "node_dict={}\n",
    "node_dictr={}\n",
    "\n",
    "for i in range(n):\n",
    "    node_dict[node[i]]=i\n",
    "    node_dictr[i]=node[i]"
   ]
  },
  {
   "cell_type": "code",
   "execution_count": null,
   "metadata": {
    "collapsed": true
   },
   "outputs": [],
   "source": []
  },
  {
   "cell_type": "code",
   "execution_count": 4,
   "metadata": {
    "collapsed": true
   },
   "outputs": [],
   "source": [
    "##Adjacency matrix\n",
    "adj_mat=np.zeros((n,n))\n",
    "edg=list(G.edges)\n",
    "for i in edg:\n",
    "    j=node_dict[i[0]]\n",
    "    k=node_dict[i[1]]\n",
    "    adj_mat[j,k]=1\n",
    "    adj_mat[k,j]=1"
   ]
  },
  {
   "cell_type": "code",
   "execution_count": 5,
   "metadata": {},
   "outputs": [
    {
     "data": {
      "text/plain": [
       "array([[0., 1., 1., ..., 0., 0., 0.],\n",
       "       [1., 0., 1., ..., 0., 0., 0.],\n",
       "       [1., 1., 0., ..., 0., 0., 1.],\n",
       "       ...,\n",
       "       [0., 0., 0., ..., 0., 0., 0.],\n",
       "       [0., 0., 0., ..., 0., 0., 0.],\n",
       "       [0., 0., 1., ..., 0., 0., 0.]])"
      ]
     },
     "execution_count": 5,
     "metadata": {},
     "output_type": "execute_result"
    }
   ],
   "source": [
    "adj_mat"
   ]
  },
  {
   "cell_type": "code",
   "execution_count": 6,
   "metadata": {},
   "outputs": [
    {
     "name": "stdout",
     "output_type": "stream",
     "text": [
      "Graph is connected\n"
     ]
    }
   ],
   "source": [
    "##Degree computation\n",
    "deg=np.sum(adj_mat,axis=0)\n",
    "if(np.any(deg<0)==False):\n",
    "    print(\"Graph is connected\")\n",
    "else:\n",
    "    print(\"Graph is not connected\")"
   ]
  },
  {
   "cell_type": "code",
   "execution_count": null,
   "metadata": {
    "collapsed": true
   },
   "outputs": [],
   "source": []
  },
  {
   "cell_type": "code",
   "execution_count": 7,
   "metadata": {},
   "outputs": [
    {
     "name": "stdout",
     "output_type": "stream",
     "text": [
      "Median degree: 6.0\n"
     ]
    }
   ],
   "source": [
    "##Median degree\n",
    "print(\"Median degree: \"+str(np.median(deg)))"
   ]
  },
  {
   "cell_type": "code",
   "execution_count": 8,
   "metadata": {},
   "outputs": [
    {
     "name": "stdout",
     "output_type": "stream",
     "text": [
      "Number of triangles: 284.0\n"
     ]
    }
   ],
   "source": [
    "##Numer of triangles\n",
    "count=0\n",
    "for i in range(n):\n",
    "    for j in range(n):\n",
    "        for k in range(n):\n",
    "            if(i!=j and j!=k and i!=k and adj_mat[i,j] and adj_mat[j,k] and adj_mat[k,i]):\n",
    "                count += 1\n",
    "print(\"Number of triangles: \"+str(count/6))"
   ]
  },
  {
   "cell_type": "code",
   "execution_count": 9,
   "metadata": {},
   "outputs": [
    {
     "data": {
      "text/plain": [
       "array([[  0.,   1.,   2., ...,   0.,   0.,   0.],\n",
       "       [  1.,   0.,   1., ...,   0.,   0.,   0.],\n",
       "       [  2.,   1.,   0., ...,   0.,   0., 109.],\n",
       "       ...,\n",
       "       [  0.,   0.,   0., ...,   0.,   0.,   0.],\n",
       "       [  0.,   0.,   0., ...,   0.,   0.,   0.],\n",
       "       [  0.,   0., 109., ...,   0.,   0.,   0.]])"
      ]
     },
     "execution_count": 9,
     "metadata": {},
     "output_type": "execute_result"
    }
   ],
   "source": [
    "cost_graph=np.zeros((n,n))\n",
    "for i in range(n):\n",
    "    for j in range(n):\n",
    "        if (adj_mat[i,j]==1):\n",
    "            cost_graph[i,j]=abs(i-j)\n",
    "cost_graph"
   ]
  },
  {
   "cell_type": "markdown",
   "metadata": {},
   "source": [
    "# Kruskal's Algorithm"
   ]
  },
  {
   "cell_type": "code",
   "execution_count": 10,
   "metadata": {
    "collapsed": true
   },
   "outputs": [],
   "source": [
    "##Upper triangular matrix form of cost graph\n",
    "def upper_triangle(n,cost_graph):\n",
    "    up_cost=np.zeros((n,n))\n",
    "    for i in range(n):\n",
    "        for j in range(i+1,n):\n",
    "            up_cost[i,j]=cost_graph[i,j]\n",
    "    return up_cost"
   ]
  },
  {
   "cell_type": "code",
   "execution_count": 11,
   "metadata": {
    "collapsed": true
   },
   "outputs": [],
   "source": [
    "##Initial tree set (n possible trees set with each set containing one node)\n",
    "def initial_set(n1):\n",
    "    lst=[]\n",
    "    for i in range(n1):\n",
    "        lst.append([i])\n",
    "    return lst"
   ]
  },
  {
   "cell_type": "code",
   "execution_count": 12,
   "metadata": {
    "collapsed": true
   },
   "outputs": [],
   "source": [
    "##Find all the non-zero elements and appending them into a list by a tuple containing node i, node j, cost of ij)\n",
    "def index_value_append(up_cst):\n",
    "    non_zer=np.nonzero(up_cst)\n",
    "    val=up_cost[non_zer]\n",
    "\n",
    "    indx_val=[]\n",
    "    for i in range(len(non_zer[0])):\n",
    "        indx_val.append((non_zer[0][i],non_zer[1][i],val[i]))\n",
    "    return indx_val"
   ]
  },
  {
   "cell_type": "code",
   "execution_count": 13,
   "metadata": {
    "collapsed": true
   },
   "outputs": [],
   "source": [
    "##Sort the tuple list based on the cost of ij \n",
    "def sort_value(indx_val):\n",
    "    srt=sorted(indx_val, key= lambda t:t[2])\n",
    "    return srt"
   ]
  },
  {
   "cell_type": "code",
   "execution_count": 14,
   "metadata": {
    "collapsed": true
   },
   "outputs": [],
   "source": [
    "##Find to which tree set the nodes i and j belong\n",
    "def find_set(u1,v1,N1):\n",
    "    for i in range(len(N1)):\n",
    "        for j in range(len(N1[i])):\n",
    "            if (u1==N1[i][j]):\n",
    "                set_u=i\n",
    "            if (v1==N1[i][j]):\n",
    "                set_v=i\n",
    "    return set_u, set_v"
   ]
  },
  {
   "cell_type": "code",
   "execution_count": 15,
   "metadata": {
    "collapsed": true
   },
   "outputs": [],
   "source": [
    "##Merge tree sets containing nodes i and j into a single list \n",
    "def N_append(set_u1,set_v1,N1):\n",
    "    for i in range(len(N1[set_v1])):\n",
    "        N1[set_u1].append(N1[set_v1][i])\n",
    "    N1.remove(N[set_v1])\n",
    "    return N1"
   ]
  },
  {
   "cell_type": "code",
   "execution_count": 16,
   "metadata": {
    "collapsed": true
   },
   "outputs": [],
   "source": [
    "##ALGORITHM\n",
    "time1=time.time()\n",
    "assign=[]\n",
    "tree_length=[]\n",
    "up_cost=upper_triangle(n,cost_graph)\n",
    "N=initial_set(n)\n",
    "ind_val=index_value_append(up_cost)\n",
    "sorted_value=sort_value(ind_val)\n",
    "n_count=0  \n",
    "\n",
    "while (n_count<(n-1)):\n",
    "    u=sorted_value[0][0]\n",
    "    v=sorted_value[0][1]\n",
    "    set_u,set_v=find_set(u,v,N)\n",
    "    if (set_u==set_v):\n",
    "        sorted_value.remove(sorted_value[0])\n",
    "    else:\n",
    "        assign.append([u,v])\n",
    "        N=N_append(set_u,set_v,N)\n",
    "        tree_length.append(sorted_value[0][2])\n",
    "        sorted_value.remove(sorted_value[0])\n",
    "        n_count+=1\n",
    "        \n",
    "time2=time.time()\n",
    "time_kruskal=time2-time1"
   ]
  },
  {
   "cell_type": "code",
   "execution_count": 17,
   "metadata": {
    "collapsed": true
   },
   "outputs": [],
   "source": [
    "##Assign the node names back to the numbered nodes \n",
    "assign_name=[]\n",
    "for i in assign:\n",
    "    assign_name.append([node_dictr[i[0]],node_dictr[i[1]]])"
   ]
  },
  {
   "cell_type": "code",
   "execution_count": 18,
   "metadata": {
    "scrolled": true
   },
   "outputs": [
    {
     "name": "stdout",
     "output_type": "stream",
     "text": [
      "Minimal spanning tree contains the following arcs (Optimal path): \n",
      "\n",
      "[['agreeable', 'man'], ['man', 'old'], ['old', 'person'], ['anything', 'short'], ['short', 'arm'], ['arm', 'round'], ['aunt', 'first'], ['bad', 'air'], ['beautiful', 'black'], ['best', 'course'], ['better', 'heart'], ['place', 'right'], ['eye', 'bright'], ['bright', 'evening'], ['certain', 'day'], ['other', 'child'], ['child', 'happy'], ['dark', 'kind'], ['dear', 'good'], ['mother', 'pretty'], ['general', 'fancy'], ['large', 'new'], ['late', 'whole'], ['light', 'manner'], ['quiet', 'same'], ['same', 'strong'], ['bad', 'boy'], ['beautiful', 'face'], ['black', 'letter'], ['face', 'little'], ['best', 'friend'], ['better', 'mind'], ['bright', 'morning'], ['certain', 'other'], ['dark', 'night'], ['kind', 'dear'], ['dear', 'home'], ['general', 'voice'], ['long', 'hand'], ['hard', 'life'], ['large', 'white'], ['whole', 'manner'], ['first', 'boy'], ['young', 'friend'], ['best', 'love'], ['better', 'place'], ['bright', 'certain'], ['dear', 'mother'], ['life', 'new'], ['thought', 'nothing'], ['nothing', 'half'], ['strong', 'usual'], ['little', 'friend'], ['best', 'part'], ['home', 'early'], ['new', 'light'], ['whole', 'house'], ['house', 'small'], ['nothing', 'wrong'], ['boy', 'little'], ['best', 'room'], ['thing', 'mind'], ['better', 'state'], ['other', 'kind'], ['long', 'life'], ['person', 'first'], ['best', 'thing'], ['better', 'woman'], ['good', 'fire'], ['great', 'voice'], ['head', 'red'], ['best', 'time'], ['better', 'word'], ['door', 'other'], ['round', 'face'], ['best', 'way'], ['good', 'great'], ['red', 'light'], ['work', 'hard'], ['hope', 'new'], ['place', 'certain'], ['thought', 'possible'], ['wrong', 'something'], ['side', 'world'], ['great', 'hand'], ['master', 'hard'], ['manner', 'natural'], ['open', 'hand'], ['long', 'low'], ['new', 'nothing'], ['manner', 'pleasant'], ['strange', 'something'], ['low', 'same'], ['thing', 'common'], ['eye', 'full'], ['whole', 'family'], ['whole', 'world'], ['hand', 'poor'], ['master', 'perfect'], ['moment', 'same'], ['heart', 'glad'], ['part', 'greater'], ['day', 'lost'], ['place', 'ready'], ['little', 'bed'], ['little', 'money'], ['woman', 'true'], ['little', 'miserable'], ['man', 'alone'], ['old', 'name'], ['old', 'year']]\n"
     ]
    }
   ],
   "source": [
    "print(\"Minimal spanning tree contains the following arcs (Optimal path): \\n\")\n",
    "print(assign_name)"
   ]
  },
  {
   "cell_type": "code",
   "execution_count": 19,
   "metadata": {},
   "outputs": [
    {
     "name": "stdout",
     "output_type": "stream",
     "text": [
      "Length of the minimal spanning tree (Optimal cost) is : 1419.0\n"
     ]
    }
   ],
   "source": [
    "print(\"Length of the minimal spanning tree (Optimal cost) is : \"+str(sum(tree_length)))"
   ]
  },
  {
   "cell_type": "code",
   "execution_count": 20,
   "metadata": {},
   "outputs": [
    {
     "name": "stdout",
     "output_type": "stream",
     "text": [
      "Running Time is :0.08107495307922363\n"
     ]
    }
   ],
   "source": [
    "print(\"Running Time is :\"+str(time_kruskal))"
   ]
  },
  {
   "cell_type": "code",
   "execution_count": null,
   "metadata": {
    "collapsed": true
   },
   "outputs": [],
   "source": []
  },
  {
   "cell_type": "markdown",
   "metadata": {},
   "source": [
    "# Prim's Algorithm"
   ]
  },
  {
   "cell_type": "code",
   "execution_count": 21,
   "metadata": {
    "collapsed": true
   },
   "outputs": [],
   "source": [
    "def prep_matrix(n,cost_grph):\n",
    "    #mat1=upper_triangle(n,cost_graph)\n",
    "    for l in range(n):\n",
    "        for l1 in range(n):\n",
    "            if(cost_grph[l,l1]==0):\n",
    "                cost_grph[l,l1]=np.max(cost_grph)+10\n",
    "    return cost_grph"
   ]
  },
  {
   "cell_type": "code",
   "execution_count": 22,
   "metadata": {
    "collapsed": true
   },
   "outputs": [],
   "source": [
    "def select_initial_node(n1):\n",
    "    return np.random.randint(0,n1)"
   ]
  },
  {
   "cell_type": "code",
   "execution_count": 23,
   "metadata": {
    "collapsed": true
   },
   "outputs": [],
   "source": [
    "time3=time.time()\n",
    "cost_mat=prep_matrix(n,np.array(cost_graph))\n",
    "init_node=select_initial_node(n)\n",
    "#init_node=0\n",
    "selected_node=[init_node]\n",
    "path=[]\n",
    "length=[]\n",
    "temp_mat=np.reshape(cost_mat[init_node,:],(1,-1))\n",
    "m=np.max(cost_graph)+10\n",
    "temp_mat[:,selected_node[0]]=m\n",
    "cost_mat[:,selected_node[0]]=m\n",
    "\n",
    "while (len(selected_node)<n):\n",
    "    minimum=np.amin(temp_mat,axis=1)\n",
    "    arg_minimum=np.argmin(temp_mat,axis=1)\n",
    "    all_min=np.amin(minimum)\n",
    "    all_argmin=np.argmin(minimum)\n",
    "    selected_node.append(arg_minimum[all_argmin])\n",
    "    path.append([selected_node[all_argmin],arg_minimum[all_argmin]])\n",
    "    length.append(all_min)\n",
    "    \n",
    "    temp_mat[:,arg_minimum[all_argmin]]=m\n",
    "    cost_mat[:,arg_minimum[all_argmin]]=m\n",
    "    temp_mat=np.vstack((temp_mat,np.reshape(cost_mat[arg_minimum[all_argmin],:],(1,-1))))\n",
    "time4=time.time()\n",
    "time_prim=time4-time3"
   ]
  },
  {
   "cell_type": "code",
   "execution_count": 24,
   "metadata": {
    "collapsed": true
   },
   "outputs": [],
   "source": [
    "##Assign the node names back to the numbered nodes \n",
    "path_name=[]\n",
    "for i in path:\n",
    "    path_name.append([node_dictr[i[0]],node_dictr[i[1]]])"
   ]
  },
  {
   "cell_type": "code",
   "execution_count": 25,
   "metadata": {},
   "outputs": [
    {
     "name": "stdout",
     "output_type": "stream",
     "text": [
      "Minimal spanning tree contains the following arcs (Optimal path): \n",
      "\n",
      "[['love', 'best'], ['best', 'course'], ['best', 'friend'], ['friend', 'young'], ['best', 'part'], ['friend', 'little'], ['little', 'face'], ['face', 'beautiful'], ['beautiful', 'black'], ['black', 'letter'], ['best', 'room'], ['little', 'boy'], ['boy', 'bad'], ['bad', 'air'], ['boy', 'first'], ['first', 'aunt'], ['best', 'thing'], ['thing', 'mind'], ['mind', 'better'], ['better', 'heart'], ['better', 'place'], ['place', 'right'], ['better', 'state'], ['first', 'person'], ['person', 'old'], ['old', 'man'], ['man', 'agreeable'], ['better', 'woman'], ['best', 'time'], ['better', 'word'], ['best', 'way'], ['face', 'round'], ['round', 'arm'], ['arm', 'short'], ['short', 'anything'], ['place', 'certain'], ['certain', 'day'], ['certain', 'other'], ['other', 'child'], ['child', 'happy'], ['certain', 'bright'], ['bright', 'eye'], ['bright', 'evening'], ['bright', 'morning'], ['other', 'kind'], ['kind', 'dark'], ['kind', 'dear'], ['dear', 'good'], ['dark', 'night'], ['dear', 'home'], ['dear', 'mother'], ['mother', 'pretty'], ['home', 'early'], ['good', 'fire'], ['other', 'door'], ['good', 'great'], ['great', 'voice'], ['voice', 'general'], ['general', 'fancy'], ['great', 'hand'], ['hand', 'long'], ['hand', 'large'], ['large', 'new'], ['large', 'white'], ['new', 'life'], ['life', 'hard'], ['new', 'light'], ['light', 'manner'], ['manner', 'whole'], ['whole', 'late'], ['whole', 'house'], ['house', 'small'], ['light', 'red'], ['red', 'head'], ['new', 'hope'], ['hard', 'work'], ['hard', 'master'], ['manner', 'natural'], ['hand', 'open'], ['long', 'low'], ['new', 'nothing'], ['nothing', 'thought'], ['nothing', 'half'], ['nothing', 'wrong'], ['thought', 'possible'], ['wrong', 'something'], ['manner', 'pleasant'], ['something', 'strange'], ['low', 'same'], ['same', 'quiet'], ['same', 'strong'], ['strong', 'usual'], ['thing', 'common'], ['eye', 'full'], ['whole', 'family'], ['whole', 'world'], ['world', 'side'], ['hand', 'poor'], ['master', 'perfect'], ['same', 'moment'], ['heart', 'glad'], ['part', 'greater'], ['day', 'lost'], ['place', 'ready'], ['little', 'bed'], ['little', 'money'], ['woman', 'true'], ['little', 'miserable'], ['man', 'alone'], ['old', 'name'], ['old', 'year']]\n"
     ]
    }
   ],
   "source": [
    "print(\"Minimal spanning tree contains the following arcs (Optimal path): \\n\")\n",
    "print(path_name)"
   ]
  },
  {
   "cell_type": "code",
   "execution_count": 26,
   "metadata": {},
   "outputs": [
    {
     "name": "stdout",
     "output_type": "stream",
     "text": [
      "Length of the minimal spanning tree (Optimal cost) is : 1419.0\n"
     ]
    }
   ],
   "source": [
    "print(\"Length of the minimal spanning tree (Optimal cost) is : \"+str(sum(length)))"
   ]
  },
  {
   "cell_type": "code",
   "execution_count": 27,
   "metadata": {},
   "outputs": [
    {
     "name": "stdout",
     "output_type": "stream",
     "text": [
      "Running Time is :0.40376925468444824\n"
     ]
    }
   ],
   "source": [
    "print(\"Running Time is :\"+str(time_prim))"
   ]
  },
  {
   "cell_type": "code",
   "execution_count": 28,
   "metadata": {},
   "outputs": [
    {
     "data": {
      "text/html": [
       "<div>\n",
       "<style scoped>\n",
       "    .dataframe tbody tr th:only-of-type {\n",
       "        vertical-align: middle;\n",
       "    }\n",
       "\n",
       "    .dataframe tbody tr th {\n",
       "        vertical-align: top;\n",
       "    }\n",
       "\n",
       "    .dataframe thead th {\n",
       "        text-align: right;\n",
       "    }\n",
       "</style>\n",
       "<table border=\"1\" class=\"dataframe\">\n",
       "  <thead>\n",
       "    <tr style=\"text-align: right;\">\n",
       "      <th></th>\n",
       "      <th>Method</th>\n",
       "      <th>Optimal Cost</th>\n",
       "      <th>Running Time</th>\n",
       "    </tr>\n",
       "  </thead>\n",
       "  <tbody>\n",
       "    <tr>\n",
       "      <th>0</th>\n",
       "      <td>Kruskal Algorithm</td>\n",
       "      <td>1419.0</td>\n",
       "      <td>0.081075</td>\n",
       "    </tr>\n",
       "    <tr>\n",
       "      <th>1</th>\n",
       "      <td>Prims Algorithm</td>\n",
       "      <td>1419.0</td>\n",
       "      <td>0.403769</td>\n",
       "    </tr>\n",
       "  </tbody>\n",
       "</table>\n",
       "</div>"
      ],
      "text/plain": [
       "              Method  Optimal Cost  Running Time\n",
       "0  Kruskal Algorithm        1419.0      0.081075\n",
       "1    Prims Algorithm        1419.0      0.403769"
      ]
     },
     "execution_count": 28,
     "metadata": {},
     "output_type": "execute_result"
    }
   ],
   "source": [
    "table={'Method':['Kruskal Algorithm','Prims Algorithm'],'Optimal Cost':[sum(tree_length),sum(length)],'Running Time':[time_kruskal,time_prim]}\n",
    "#table=[{'Method':'Kruskal Algorithm','Optimal Cost':sum(tree_length)},{'Method':'Prims Algorithm','Optimal Cost':sum(length)}]\n",
    "pd.DataFrame(table)"
   ]
  }
 ],
 "metadata": {
  "kernelspec": {
   "display_name": "Python 3",
   "language": "python",
   "name": "python3"
  },
  "language_info": {
   "codemirror_mode": {
    "name": "ipython",
    "version": 3
   },
   "file_extension": ".py",
   "mimetype": "text/x-python",
   "name": "python",
   "nbconvert_exporter": "python",
   "pygments_lexer": "ipython3",
   "version": "3.7.0"
  }
 },
 "nbformat": 4,
 "nbformat_minor": 2
}
